{
 "cells": [
  {
   "cell_type": "markdown",
   "metadata": {},
   "source": [
    "File used for testing outputs and methods"
   ]
  },
  {
   "cell_type": "code",
   "execution_count": 1,
   "metadata": {},
   "outputs": [],
   "source": [
    "import matplotlib.pyplot as plt\n",
    "import pandas as pd\n",
    "import numpy as np\n",
    "import os"
   ]
  },
  {
   "cell_type": "code",
   "execution_count": 2,
   "metadata": {},
   "outputs": [],
   "source": [
    "#Function to read a specified excel file and sheet number\n",
    "def readInData (fileName,sheet):\n",
    "    current_dir = os.getcwd()\n",
    "    file_dir = current_dir+fileName\n",
    "    data = pd.read_excel(file_dir,sheet) #Reads in the specified sheet index from the data file\n",
    "    clean = data.iloc[12::9,[0,3,7,11]] #Takes only the totals from each location and only the male, female and total pass %s \n",
    "    clean.columns = ['Location','Male%','Female%','Total%']\n",
    "    clean = clean.drop(clean[clean['Male%'] == '..'].index)\n",
    "    clean = clean.drop(clean[clean['Female%'] == '..'].index)\n",
    "    clean = clean.drop(clean[clean['Total%'] == '..'].index)\n",
    "    clean = clean.reset_index(drop=True) #Tidies up dataframe by correcting index values\n",
    "    clean = clean.astype({'Male%':'float','Female%':'float','Total%':'float'})\n",
    "    return clean"
   ]
  },
  {
   "cell_type": "code",
   "execution_count": 3,
   "metadata": {},
   "outputs": [
    {
     "data": {
      "text/html": [
       "<div>\n",
       "<style scoped>\n",
       "    .dataframe tbody tr th:only-of-type {\n",
       "        vertical-align: middle;\n",
       "    }\n",
       "\n",
       "    .dataframe tbody tr th {\n",
       "        vertical-align: top;\n",
       "    }\n",
       "\n",
       "    .dataframe thead th {\n",
       "        text-align: right;\n",
       "    }\n",
       "</style>\n",
       "<table border=\"1\" class=\"dataframe\">\n",
       "  <thead>\n",
       "    <tr style=\"text-align: right;\">\n",
       "      <th></th>\n",
       "      <th>Location</th>\n",
       "      <th>Male%</th>\n",
       "      <th>Female%</th>\n",
       "      <th>Total%</th>\n",
       "    </tr>\n",
       "  </thead>\n",
       "  <tbody>\n",
       "    <tr>\n",
       "      <th>0</th>\n",
       "      <td>Aberdeen Total</td>\n",
       "      <td>47.098604</td>\n",
       "      <td>50.803428</td>\n",
       "      <td>48.761722</td>\n",
       "    </tr>\n",
       "    <tr>\n",
       "      <th>1</th>\n",
       "      <td>Aberystwyth Total</td>\n",
       "      <td>44.227642</td>\n",
       "      <td>47.647059</td>\n",
       "      <td>45.777778</td>\n",
       "    </tr>\n",
       "    <tr>\n",
       "      <th>2</th>\n",
       "      <td>Aldershot Total</td>\n",
       "      <td>44.884854</td>\n",
       "      <td>46.945515</td>\n",
       "      <td>45.803681</td>\n",
       "    </tr>\n",
       "    <tr>\n",
       "      <th>3</th>\n",
       "      <td>Alnwick Total</td>\n",
       "      <td>40.112994</td>\n",
       "      <td>43.533123</td>\n",
       "      <td>41.728763</td>\n",
       "    </tr>\n",
       "    <tr>\n",
       "      <th>4</th>\n",
       "      <td>Andover Total</td>\n",
       "      <td>46.604787</td>\n",
       "      <td>52.128248</td>\n",
       "      <td>49.196058</td>\n",
       "    </tr>\n",
       "    <tr>\n",
       "      <th>...</th>\n",
       "      <td>...</td>\n",
       "      <td>...</td>\n",
       "      <td>...</td>\n",
       "      <td>...</td>\n",
       "    </tr>\n",
       "    <tr>\n",
       "      <th>177</th>\n",
       "      <td>Worksop Total</td>\n",
       "      <td>34.482759</td>\n",
       "      <td>43.333333</td>\n",
       "      <td>38.983051</td>\n",
       "    </tr>\n",
       "    <tr>\n",
       "      <th>178</th>\n",
       "      <td>Worthing Total</td>\n",
       "      <td>44.821265</td>\n",
       "      <td>47.482014</td>\n",
       "      <td>46.026573</td>\n",
       "    </tr>\n",
       "    <tr>\n",
       "      <th>179</th>\n",
       "      <td>Wrexham Total</td>\n",
       "      <td>42.520661</td>\n",
       "      <td>45.908072</td>\n",
       "      <td>43.958135</td>\n",
       "    </tr>\n",
       "    <tr>\n",
       "      <th>180</th>\n",
       "      <td>Yeovil Total</td>\n",
       "      <td>45.732542</td>\n",
       "      <td>48.759377</td>\n",
       "      <td>47.069317</td>\n",
       "    </tr>\n",
       "    <tr>\n",
       "      <th>181</th>\n",
       "      <td>York Total</td>\n",
       "      <td>47.210841</td>\n",
       "      <td>52.871073</td>\n",
       "      <td>49.848536</td>\n",
       "    </tr>\n",
       "  </tbody>\n",
       "</table>\n",
       "<p>182 rows × 4 columns</p>\n",
       "</div>"
      ],
      "text/plain": [
       "              Location      Male%    Female%     Total%\n",
       "0       Aberdeen Total  47.098604  50.803428  48.761722\n",
       "1    Aberystwyth Total  44.227642  47.647059  45.777778\n",
       "2      Aldershot Total  44.884854  46.945515  45.803681\n",
       "3        Alnwick Total  40.112994  43.533123  41.728763\n",
       "4        Andover Total  46.604787  52.128248  49.196058\n",
       "..                 ...        ...        ...        ...\n",
       "177      Worksop Total  34.482759  43.333333  38.983051\n",
       "178     Worthing Total  44.821265  47.482014  46.026573\n",
       "179      Wrexham Total  42.520661  45.908072  43.958135\n",
       "180       Yeovil Total  45.732542  48.759377  47.069317\n",
       "181         York Total  47.210841  52.871073  49.848536\n",
       "\n",
       "[182 rows x 4 columns]"
      ]
     },
     "execution_count": 3,
     "metadata": {},
     "output_type": "execute_result"
    }
   ],
   "source": [
    "#Creating dataframes \n",
    "fileName = '/testcenterdata.xlsx'\n",
    "y25 = readInData(fileName,2).copy(deep=True)\n",
    "y25"
   ]
  },
  {
   "cell_type": "code",
   "execution_count": 11,
   "metadata": {},
   "outputs": [],
   "source": [
    "#Function to print max and min values for each column as a dataframe\n",
    "def maxMinValuesReturn (df):\n",
    "    maxMale = df[df['Male%']==df['Male%'].max()]\n",
    "    minMale = df[df['Male%']==df['Male%'].min()]\n",
    "    maxFemale = df[df['Female%']==df['Female%'].max()]\n",
    "    minFemale = df[df['Female%']==df['Female%'].min()]\n",
    "    maxTotal = df[df['Total%']==df['Total%'].max()]\n",
    "    minTotal = df[df['Total%']==df['Total%'].min()]\n",
    "    indexlabels = ['maxMale','minMale','maxFemale','minFemale','maxTotal','minTotal']\n",
    "    rdf = pd.concat([maxMale,minMale,maxFemale,minFemale,maxTotal,minTotal],axis=0)\n",
    "    rdf.index = indexlabels\n",
    "    print(rdf)\n",
    "    return"
   ]
  },
  {
   "cell_type": "code",
   "execution_count": 12,
   "metadata": {},
   "outputs": [
    {
     "name": "stdout",
     "output_type": "stream",
     "text": [
      "                         Location      Male%    Female%     Total%\n",
      "maxMale    Kyle of Lochalsh Total  70.000000  60.000000  64.000000\n",
      "minMale      Newton Stewart Total  26.086957  30.000000  27.906977\n",
      "maxFemale              Diss Total  53.846154  71.428571  61.702128\n",
      "minFemale    Newton Stewart Total  26.086957  30.000000  27.906977\n",
      "maxTotal   Kyle of Lochalsh Total  70.000000  60.000000  64.000000\n",
      "minTotal     Newton Stewart Total  26.086957  30.000000  27.906977\n"
     ]
    }
   ],
   "source": [
    "maxMinValuesReturn(y25)"
   ]
  },
  {
   "cell_type": "code",
   "execution_count": 6,
   "metadata": {},
   "outputs": [],
   "source": [
    "#Function to print max and min values for each column as a dataframe\n",
    "def maxMinValuesPrint (df):\n",
    "    maxMale = df[df['Male%']==df['Male%'].max()]\n",
    "    minMale = df[df['Male%']==df['Male%'].min()]\n",
    "    maxFemale = df[df['Female%']==df['Female%'].max()]\n",
    "    minFemale = df[df['Female%']==df['Female%'].min()]\n",
    "    maxTotal = df[df['Total%']==df['Total%'].max()]\n",
    "    minTotal = df[df['Total%']==df['Total%'].min()]\n",
    "    print('Male Max:\\n'+str(maxMale)+'\\nMale Min:\\n'+str(minMale)+'\\nFemale Max:\\n'+str(maxFemale)+'\\nFemale Min:\\n'+str(minFemale)+'\\nTotal Max:\\n'+str(maxTotal)+'\\nTotal Min:\\n'+str(minTotal))\n",
    "    return"
   ]
  }
 ],
 "metadata": {
  "kernelspec": {
   "display_name": "Python 3",
   "language": "python",
   "name": "python3"
  },
  "language_info": {
   "codemirror_mode": {
    "name": "ipython",
    "version": 3
   },
   "file_extension": ".py",
   "mimetype": "text/x-python",
   "name": "python",
   "nbconvert_exporter": "python",
   "pygments_lexer": "ipython3",
   "version": "3.13.0"
  }
 },
 "nbformat": 4,
 "nbformat_minor": 2
}
