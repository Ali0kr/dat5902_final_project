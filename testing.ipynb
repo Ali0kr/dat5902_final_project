{
 "cells": [
  {
   "cell_type": "markdown",
   "metadata": {},
   "source": [
    "File used for testing outputs and methods"
   ]
  },
  {
   "cell_type": "code",
   "execution_count": 166,
   "metadata": {},
   "outputs": [],
   "source": [
    "import matplotlib.pyplot as plt\n",
    "import pandas as pd\n",
    "pd.options.mode.chained_assignment = None\n",
    "import numpy as np\n",
    "import os"
   ]
  },
  {
   "cell_type": "code",
   "execution_count": 167,
   "metadata": {},
   "outputs": [],
   "source": [
    "#Function to read a specified excel file and sheet number\n",
    "def readInData (fileName,sheet):\n",
    "    current_dir = os.getcwd()\n",
    "    file_dir = current_dir+fileName\n",
    "    data = pd.read_excel(file_dir,sheet) #Reads in the specified sheet index from the data file\n",
    "    clean = data.iloc[18::15,[0,3,7,11]] #Takes only the totals from each location and only the male, female and total pass %s\n",
    "    clean.columns = ['Location','Male%','Female%','Total%']\n",
    "    clean = clean.drop(clean[clean['Male%'] == '..'].index)\n",
    "    clean = clean.drop(clean[clean['Female%'] == '..'].index)\n",
    "    clean = clean.drop(clean[clean['Total%'] == '..'].index)\n",
    "    clean = clean.reset_index(drop=True) #Tidies up dataframe by correcting index values\n",
    "    clean = clean.astype({'Male%':'float','Female%':'float','Total%':'float'})\n",
    "    clean['Location'] = clean['Location'].str.replace('Total', '')\n",
    "    return clean"
   ]
  },
  {
   "cell_type": "code",
   "execution_count": 168,
   "metadata": {},
   "outputs": [],
   "source": [
    "#Function to print max and min values for each column for the months only as a dataframe\n",
    "def maxMinValuesReturn (df):\n",
    "    maxMale = df[df['Male%']==df['Male%'].max()]\n",
    "    maxMale['Index'] = 'maxMale'\n",
    "    minMale = df[df['Male%']==df['Male%'].min()]\n",
    "    minMale['Index'] = 'minMale'\n",
    "    maxFemale = df[df['Female%']==df['Female%'].max()]\n",
    "    maxFemale['Index'] = 'maxFemale'\n",
    "    minFemale = df[df['Female%']==df['Female%'].min()]\n",
    "    minFemale['Index'] = 'minFemale'\n",
    "    maxTotal = df[df['Total%']==df['Total%'].max()]\n",
    "    maxTotal['Index'] = 'maxTotal'\n",
    "    minTotal = df[df['Total%']==df['Total%'].min()]\n",
    "    minTotal['Index'] = 'minTotal'\n",
    "    rdf = pd.concat([maxMale,minMale,maxFemale,minFemale,maxTotal,minTotal],axis=0)\n",
    "    rdf.set_index('Index', inplace = True)\n",
    "    rdf = rdf.rename_axis(None)\n",
    "    return rdf"
   ]
  },
  {
   "cell_type": "code",
   "execution_count": 169,
   "metadata": {},
   "outputs": [],
   "source": [
    "#Function to get the geographical location of a row that has a max or min value\n",
    "#Deprecated function - no longer in use\n",
    "def getLocationNames (df,tofind):\n",
    "    nums = tofind.index.tolist()\n",
    "    print(nums)\n",
    "    names = []\n",
    "    for i in range(0,len(nums)):\n",
    "        for j in range (0,13):\n",
    "            print(nums[i]-j)\n",
    "            if (df.loc[nums[i]-j]['Location']) == '':\n",
    "                names.append((df.loc[nums[i]-j+1]['Location']))\n",
    "    return names"
   ]
  },
  {
   "cell_type": "code",
   "execution_count": 170,
   "metadata": {},
   "outputs": [],
   "source": [
    "#Function to print max and min values for each column as a dataframe\n",
    "#Deprecated function - no longer in use\n",
    "def maxMinValuesPrint (df):\n",
    "    maxMale = df[df['Male%']==df['Male%'].max()]\n",
    "    minMale = df[df['Male%']==df['Male%'].min()]\n",
    "    maxFemale = df[df['Female%']==df['Female%'].max()]\n",
    "    minFemale = df[df['Female%']==df['Female%'].min()]\n",
    "    maxTotal = df[df['Total%']==df['Total%'].max()]\n",
    "    minTotal = df[df['Total%']==df['Total%'].min()]\n",
    "    print('Male Max:\\n'+str(maxMale)+'\\nMale Min:\\n'+str(minMale)+'\\nFemale Max:\\n'+str(maxFemale)+'\\nFemale Min:\\n'+str(minFemale)+'\\nTotal Max:\\n'+str(maxTotal)+'\\nTotal Min:\\n'+str(minTotal))\n",
    "    return"
   ]
  },
  {
   "cell_type": "code",
   "execution_count": 171,
   "metadata": {},
   "outputs": [
    {
     "name": "stdout",
     "output_type": "stream",
     "text": [
      "         Location      Male%    Female%     Total%\n",
      "0       Aberdeen   46.205734  50.601719  48.213585\n",
      "1    Aberystwyth   44.086022  52.043011  47.545582\n",
      "2      Aldershot   44.211687  48.373600  46.082893\n",
      "3        Alnwick   45.984252  45.936396  45.961699\n",
      "4        Andover   46.153846  50.304790  48.050398\n",
      "..            ...        ...        ...        ...\n",
      "185      Worksop   45.783133  41.317365  43.543544\n",
      "186     Worthing   44.986511  48.759865  46.660830\n",
      "187      Wrexham   41.346588  47.921615  44.187837\n",
      "188       Yeovil   43.008475  49.646821  45.932731\n",
      "189         York   47.121134  53.464778  50.112846\n",
      "\n",
      "[190 rows x 4 columns]\n"
     ]
    }
   ],
   "source": [
    "fileName = '/testcenterdata.xlsx'\n",
    "y24 = readInData(fileName,3).copy(deep=True)\n",
    "print(y24)"
   ]
  },
  {
   "cell_type": "code",
   "execution_count": 172,
   "metadata": {},
   "outputs": [
    {
     "data": {
      "text/html": [
       "<div>\n",
       "<style scoped>\n",
       "    .dataframe tbody tr th:only-of-type {\n",
       "        vertical-align: middle;\n",
       "    }\n",
       "\n",
       "    .dataframe tbody tr th {\n",
       "        vertical-align: top;\n",
       "    }\n",
       "\n",
       "    .dataframe thead th {\n",
       "        text-align: right;\n",
       "    }\n",
       "</style>\n",
       "<table border=\"1\" class=\"dataframe\">\n",
       "  <thead>\n",
       "    <tr style=\"text-align: right;\">\n",
       "      <th></th>\n",
       "      <th>Location</th>\n",
       "      <th>Male%</th>\n",
       "      <th>Female%</th>\n",
       "      <th>Total%</th>\n",
       "    </tr>\n",
       "  </thead>\n",
       "  <tbody>\n",
       "    <tr>\n",
       "      <th>maxMale</th>\n",
       "      <td>Saxmundham</td>\n",
       "      <td>61.904762</td>\n",
       "      <td>47.826087</td>\n",
       "      <td>54.545455</td>\n",
       "    </tr>\n",
       "    <tr>\n",
       "      <th>minMale</th>\n",
       "      <td>Bowmore (Isle of Islay)</td>\n",
       "      <td>27.272727</td>\n",
       "      <td>40.000000</td>\n",
       "      <td>35.087719</td>\n",
       "    </tr>\n",
       "    <tr>\n",
       "      <th>maxFemale</th>\n",
       "      <td>Ullapool</td>\n",
       "      <td>47.368421</td>\n",
       "      <td>90.909091</td>\n",
       "      <td>63.333333</td>\n",
       "    </tr>\n",
       "    <tr>\n",
       "      <th>minFemale</th>\n",
       "      <td>Cumnock</td>\n",
       "      <td>54.545455</td>\n",
       "      <td>30.434783</td>\n",
       "      <td>42.222222</td>\n",
       "    </tr>\n",
       "    <tr>\n",
       "      <th>maxTotal</th>\n",
       "      <td>Ullapool</td>\n",
       "      <td>47.368421</td>\n",
       "      <td>90.909091</td>\n",
       "      <td>63.333333</td>\n",
       "    </tr>\n",
       "    <tr>\n",
       "      <th>minTotal</th>\n",
       "      <td>Newton Stewart</td>\n",
       "      <td>33.333333</td>\n",
       "      <td>36.666667</td>\n",
       "      <td>34.848485</td>\n",
       "    </tr>\n",
       "  </tbody>\n",
       "</table>\n",
       "</div>"
      ],
      "text/plain": [
       "                           Location      Male%    Female%     Total%\n",
       "maxMale                 Saxmundham   61.904762  47.826087  54.545455\n",
       "minMale    Bowmore (Isle of Islay)   27.272727  40.000000  35.087719\n",
       "maxFemale                 Ullapool   47.368421  90.909091  63.333333\n",
       "minFemale                  Cumnock   54.545455  30.434783  42.222222\n",
       "maxTotal                  Ullapool   47.368421  90.909091  63.333333\n",
       "minTotal            Newton Stewart   33.333333  36.666667  34.848485"
      ]
     },
     "execution_count": 172,
     "metadata": {},
     "output_type": "execute_result"
    }
   ],
   "source": [
    "y24c = maxMinValuesReturn(y24)\n",
    "y24c"
   ]
  },
  {
   "cell_type": "code",
   "execution_count": 173,
   "metadata": {},
   "outputs": [
    {
     "data": {
      "image/png": "[encoded data removed]",
      "text/plain": [
       "<Figure size 1500x500 with 1 Axes>"
      ]
     },
     "metadata": {},
     "output_type": "display_data"
    }
   ],
   "source": [
    "#Creating first plot\n",
    "fig,ax = plt.subplots(figsize=(15,5))\n",
    "ax = plt.plot(y24c['Male%']) "
   ]
  }
 ],
 "metadata": {
  "kernelspec": {
   "display_name": "Python 3",
   "language": "python",
   "name": "python3"
  },
  "language_info": {
   "codemirror_mode": {
    "name": "ipython",
    "version": 3
   },
   "file_extension": ".py",
   "mimetype": "text/x-python",
   "name": "python",
   "nbconvert_exporter": "python",
   "pygments_lexer": "ipython3",
   "version": "3.13.0"
  }
 },
 "nbformat": 4,
 "nbformat_minor": 2
}
